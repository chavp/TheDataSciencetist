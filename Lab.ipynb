{
 "cells": [
  {
   "cell_type": "code",
   "execution_count": 1,
   "metadata": {},
   "outputs": [],
   "source": [
    "def add(a, b):\n",
    "    return a + b"
   ]
  },
  {
   "cell_type": "code",
   "execution_count": 2,
   "metadata": {},
   "outputs": [],
   "source": [
    "a,b = 1,2\n",
    "c = add(a,b)"
   ]
  },
  {
   "cell_type": "markdown",
   "metadata": {},
   "source": [
    "Computational thinking\n",
    "- Declarative knowledge\n",
    "    เป็นความรู้ตามความเป็นจริง (fact) เช่น square root ของ x ก็คือ y โดยที่ y*y = x\n",
    "    Declarative knowledge บอกข้อเท็จจริงกับเรา แต่ไม่ได้อธิบายว่ามาได้อย่างไร\n",
    "- Imperative knowledge\n",
    "    ความรู้ที่อธิบายวิธีการให้ได้มาซึ่งความจริง หรือ ทำอย่างไรให้ได้ผลลัพย์นั้น เช่น\n",
    "    วิธีหาค่า square root x โดย Heron of Alexandria\n",
    "    1. เริ่มต้นเดาค่า g \n",
    "    2. ถ้า g*g เข้าใกล้ x ให้หยุด ได้คำตอบ เป็น g ไม่ไปขั้นถัดไป\n",
    "    3. หาค่า g ใหม่โดยที่ g = (g + x/g)/2\n",
    "    4. วนกลับไปข้อ 2 \n",
    "    \n",
    "    ขั้นตอนด้านบนเรียกว่า algorithm \n",
    "algorithm ก็คือ ขั้นตอนคำสั่งที่มีจำกัด ที่อธิบายสิ่งที่เรียกว่า computation ที่มี input  "
   ]
  },
  {
   "cell_type": "code",
   "execution_count": 7,
   "metadata": {},
   "outputs": [
    {
     "name": "stdout",
     "output_type": "stream",
     "text": [
      "Hello World\n"
     ]
    }
   ],
   "source": [
    "print('Hello', 'World')"
   ]
  },
  {
   "cell_type": "code",
   "execution_count": 13,
   "metadata": {},
   "outputs": [
    {
     "data": {
      "text/plain": [
       "363"
      ]
     },
     "execution_count": 13,
     "metadata": {},
     "output_type": "execute_result"
    }
   ],
   "source": [
    "pi = 3\n",
    "r = 11\n",
    "are = pi*(r**2)\n",
    "are"
   ]
  },
  {
   "cell_type": "code",
   "execution_count": 12,
   "metadata": {},
   "outputs": [
    {
     "data": {
      "text/plain": [
       "363"
      ]
     },
     "execution_count": 12,
     "metadata": {},
     "output_type": "execute_result"
    }
   ],
   "source": [
    "r = 12\n",
    "are"
   ]
  },
  {
   "cell_type": "code",
   "execution_count": 15,
   "metadata": {},
   "outputs": [
    {
     "name": "stdout",
     "output_type": "stream",
     "text": [
      "4 * 4 = 16\n"
     ]
    }
   ],
   "source": [
    "# Square an integer, the hard way\n",
    "x = 4\n",
    "ans = 0\n",
    "itersLeft = x\n",
    "while(itersLeft != 0):\n",
    "    ans = ans + x\n",
    "    itersLeft = itersLeft - 1\n",
    "print('{0} * {0} = {1}'.format(x, ans))"
   ]
  },
  {
   "cell_type": "code",
   "execution_count": 16,
   "metadata": {},
   "outputs": [
    {
     "name": "stdout",
     "output_type": "stream",
     "text": [
      "132 is divisible by 11 and 12\n"
     ]
    }
   ],
   "source": [
    "#Find a positive integer that is divisible by both 11 and 12\n",
    "x = 1\n",
    "while True:\n",
    "    if x%11 == 0 and x%12 == 0:\n",
    "        break\n",
    "    x = x + 1\n",
    "print(x, 'is divisible by 11 and 12')"
   ]
  },
  {
   "cell_type": "code",
   "execution_count": 22,
   "metadata": {},
   "outputs": [
    {
     "name": "stdout",
     "output_type": "stream",
     "text": [
      "Cube root of 27 is 3\n"
     ]
    }
   ],
   "source": [
    "#Find the cube root of a perfect cube\n",
    "x = 27\n",
    "ans = 0\n",
    "while ans**3 < abs(x):\n",
    "    ans = ans + 1\n",
    "if ans**3 != abs(x):\n",
    "    print(x, 'is not a perfect cube')\n",
    "else:\n",
    "    print('Cube root of', x, 'is', ans)"
   ]
  },
  {
   "cell_type": "code",
   "execution_count": 24,
   "metadata": {},
   "outputs": [
    {
     "name": "stdout",
     "output_type": "stream",
     "text": [
      "0\n",
      "1\n",
      "2\n",
      "3\n"
     ]
    }
   ],
   "source": [
    "x = 4\n",
    "for i in range(0, x):\n",
    "    print(i)\n",
    "    x = 5"
   ]
  },
  {
   "cell_type": "code",
   "execution_count": 26,
   "metadata": {},
   "outputs": [
    {
     "name": "stdout",
     "output_type": "stream",
     "text": [
      "0\n",
      "1\n",
      "2\n",
      "3\n",
      "0\n",
      "1\n",
      "0\n",
      "1\n",
      "0\n",
      "1\n"
     ]
    }
   ],
   "source": [
    "x = 4\n",
    "for j in range(x):\n",
    "    for i in range(x):\n",
    "        print(i)\n",
    "        x = 2"
   ]
  },
  {
   "cell_type": "code",
   "execution_count": 27,
   "metadata": {},
   "outputs": [
    {
     "name": "stdout",
     "output_type": "stream",
     "text": [
      "Cube root of 27 is 3\n"
     ]
    }
   ],
   "source": [
    "#Find the cube root of a perfect cube\n",
    "x = 27\n",
    "for ans in range(0, abs(x)+1):\n",
    "    if ans**3 >= abs(x):\n",
    "        break\n",
    "if ans**3 != abs(x):\n",
    "    print(x, 'is not a perfect cube')\n",
    "else:\n",
    "    print('Cube root of', x, 'is', ans)"
   ]
  },
  {
   "cell_type": "code",
   "execution_count": 7,
   "metadata": {},
   "outputs": [
    {
     "data": {
      "text/plain": [
       "6.753"
      ]
     },
     "execution_count": 7,
     "metadata": {},
     "output_type": "execute_result"
    }
   ],
   "source": [
    "total = 0\n",
    "for c in '1.23,2.4,3.123'.split(','):\n",
    "    total = total + float(c)\n",
    "total"
   ]
  },
  {
   "cell_type": "code",
   "execution_count": 24,
   "metadata": {},
   "outputs": [
    {
     "name": "stdout",
     "output_type": "stream",
     "text": [
      "numGuesses = 49990\n",
      "x = 25 , ans = 4.999000000001688\n"
     ]
    }
   ],
   "source": [
    "# SQRT - 1\n",
    "x = 25\n",
    "epsilon = 0.01\n",
    "step = epsilon**2\n",
    "numGuesses = 0\n",
    "low = 0.0\n",
    "high = max(1.0, x)\n",
    "ans = 0.0\n",
    "while abs(ans**2 - x) >= epsilon and ans <= x:\n",
    "    ans += step\n",
    "    numGuesses += 1\n",
    "print('numGuesses =', numGuesses)\n",
    "print('x =', x, ',', 'ans =', ans)"
   ]
  },
  {
   "cell_type": "code",
   "execution_count": 28,
   "metadata": {},
   "outputs": [
    {
     "name": "stdout",
     "output_type": "stream",
     "text": [
      "numGuesses = 13\n",
      "x = 25 , ans = 5.00030517578125\n"
     ]
    }
   ],
   "source": [
    "# SQRT - 2 bisection search\n",
    "x = 25\n",
    "epsilon = 0.01\n",
    "numGuesses = 0\n",
    "low = 0.0\n",
    "high = max(1.0, x)\n",
    "ans = (low + high) / 2.0\n",
    "while abs(ans**2 - x) >= epsilon:\n",
    "    numGuesses += 1\n",
    "    if ans**2 < x:\n",
    "        low = ans\n",
    "    else:\n",
    "        high = ans\n",
    "    ans = (high + low) / 2.0\n",
    "print('numGuesses =', numGuesses)\n",
    "print('x =', x, ',', 'ans =', ans)"
   ]
  },
  {
   "cell_type": "code",
   "execution_count": 19,
   "metadata": {},
   "outputs": [
    {
     "name": "stdout",
     "output_type": "stream",
     "text": [
      "numGuesses = 14\n",
      "x = 100 , ans = 4.6417236328125\n"
     ]
    }
   ],
   "source": [
    "# Cube root bisection search\n",
    "x = 100\n",
    "epsilon = 0.01\n",
    "numGuesses = 0\n",
    "low = 0.0\n",
    "high = max(1.0, x)\n",
    "ans = (low + high) / 2.0\n",
    "while abs(ans**3 - x) >= epsilon:\n",
    "    numGuesses += 1\n",
    "    if ans**3 < x:\n",
    "        low = ans\n",
    "    else:\n",
    "        high = ans\n",
    "    ans = (high + low) / 2.0\n",
    "print('numGuesses =', numGuesses)\n",
    "print('x =', x, ',', 'ans =', ans)"
   ]
  },
  {
   "cell_type": "code",
   "execution_count": 31,
   "metadata": {},
   "outputs": [
    {
     "data": {
      "text/plain": [
       "25.00844444286443"
      ]
     },
     "execution_count": 31,
     "metadata": {},
     "output_type": "execute_result"
    }
   ],
   "source": [
    "2.924346923828125**3"
   ]
  },
  {
   "cell_type": "code",
   "execution_count": 11,
   "metadata": {},
   "outputs": [
    {
     "name": "stdout",
     "output_type": "stream",
     "text": [
      "10011 = 38\n"
     ]
    }
   ],
   "source": [
    "x = '10011'\n",
    "n = len(x)\n",
    "ans = 0\n",
    "for c in x:\n",
    "    ans += int(c)*(2**n)\n",
    "    n -= 1\n",
    "print(x,'=',ans)"
   ]
  },
  {
   "cell_type": "code",
   "execution_count": 20,
   "metadata": {},
   "outputs": [
    {
     "name": "stdout",
     "output_type": "stream",
     "text": [
      "numGuesses = 4\n",
      "Square root of 25.0 is about 5.000012953048684\n"
     ]
    }
   ],
   "source": [
    "#Newton-Raphson for square root\n",
    "#Find x such that x**2 - 24 is within epsilon of 0\n",
    "# guess – p(guess)/p’(guess)\n",
    "epsilon = 0.01\n",
    "k = 25.0\n",
    "guess = k/2.0\n",
    "numGuesses = 0\n",
    "while abs(guess*guess - k) >= epsilon:\n",
    "    numGuesses += 1\n",
    "    guess = guess - (((guess**2) - k)/(2*guess))\n",
    "print('numGuesses =', numGuesses)\n",
    "print('Square root of', k, 'is about', guess)"
   ]
  },
  {
   "cell_type": "code",
   "execution_count": 21,
   "metadata": {},
   "outputs": [
    {
     "name": "stdout",
     "output_type": "stream",
     "text": [
      "2\n"
     ]
    }
   ],
   "source": [
    "def maxVal(x, y):\n",
    "    if x > y:\n",
    "        return x\n",
    "    else:\n",
    "        return y\n",
    "print(maxVal(1,2))"
   ]
  },
  {
   "cell_type": "code",
   "execution_count": 30,
   "metadata": {},
   "outputs": [
    {
     "name": "stdout",
     "output_type": "stream",
     "text": [
      "Parinya Chav\n",
      "Chav, Parinya\n"
     ]
    }
   ],
   "source": [
    "def printName(firstName, lastName, reverse = False):\n",
    "    if reverse:\n",
    "        print(lastName + ', ' + firstName)\n",
    "    else:\n",
    "        print(firstName,lastName)\n",
    "\n",
    "printName('Parinya', 'Chav')\n",
    "printName('Parinya', 'Chav', True)"
   ]
  },
  {
   "cell_type": "code",
   "execution_count": 34,
   "metadata": {},
   "outputs": [],
   "source": [
    "def findRoot(x, power, epsilon = 0.01):\n",
    "    low = min(-1, x)\n",
    "    high = max(1.0, x)\n",
    "    ans = (low + high) / 2\n",
    "    while abs(ans**power - x) >= epsilon:\n",
    "        if ans**power < x:\n",
    "            low = ans\n",
    "        else:\n",
    "            high = ans\n",
    "        ans = (low + high) / 2\n",
    "    return ans"
   ]
  },
  {
   "cell_type": "code",
   "execution_count": 35,
   "metadata": {},
   "outputs": [
    {
     "name": "stdout",
     "output_type": "stream",
     "text": [
      "5.0001220703125\n"
     ]
    }
   ],
   "source": [
    "print(findRoot(25, 2))"
   ]
  },
  {
   "cell_type": "code",
   "execution_count": 38,
   "metadata": {},
   "outputs": [],
   "source": [
    "def factI(n):\n",
    "    ans = 1\n",
    "    for x in range(1, n + 1):\n",
    "        ans *= x\n",
    "    return ans"
   ]
  },
  {
   "cell_type": "code",
   "execution_count": 48,
   "metadata": {},
   "outputs": [
    {
     "name": "stdout",
     "output_type": "stream",
     "text": [
      "720\n"
     ]
    }
   ],
   "source": [
    "print(factI(6))"
   ]
  },
  {
   "cell_type": "code",
   "execution_count": 41,
   "metadata": {},
   "outputs": [],
   "source": [
    "def factR(n):\n",
    "    if n == 1:\n",
    "        return 1\n",
    "    else:\n",
    "        return n * factR(n - 1)"
   ]
  },
  {
   "cell_type": "code",
   "execution_count": 47,
   "metadata": {},
   "outputs": [
    {
     "name": "stdout",
     "output_type": "stream",
     "text": [
      "720\n"
     ]
    }
   ],
   "source": [
    "print(factR(6))"
   ]
  },
  {
   "cell_type": "code",
   "execution_count": 136,
   "metadata": {},
   "outputs": [],
   "source": [
    "def fib(n):\n",
    "    global numFibCalls\n",
    "    numFibCalls += 1\n",
    "    if n == 0 or n == 1:\n",
    "        return 1\n",
    "    return fib(n-1) + fib(n-2)"
   ]
  },
  {
   "cell_type": "code",
   "execution_count": 141,
   "metadata": {},
   "outputs": [
    {
     "name": "stdout",
     "output_type": "stream",
     "text": [
      "3\n"
     ]
    }
   ],
   "source": [
    "numFibCalls = 0\n",
    "fib(2)\n",
    "print(numFibCalls)"
   ]
  },
  {
   "cell_type": "code",
   "execution_count": 146,
   "metadata": {},
   "outputs": [],
   "source": [
    "def isPalindrome(s):\n",
    "    def toChars(s):\n",
    "        s = s.lower()\n",
    "        letters = ''\n",
    "        for c in s:\n",
    "            if c in 'abcdefghijklmnopqrstuvwxyz':\n",
    "                letters = letters + c\n",
    "        return letters\n",
    "    def isPal(s):\n",
    "        if len(s) <= 1: \n",
    "            return True\n",
    "        else:\n",
    "            ans = (s[0] == s[-1]) and isPal(s[1:-1])\n",
    "            return ans\n",
    "    return isPal(toChars(s))"
   ]
  },
  {
   "cell_type": "code",
   "execution_count": 147,
   "metadata": {},
   "outputs": [
    {
     "data": {
      "text/plain": [
       "True"
      ]
     },
     "execution_count": 147,
     "metadata": {},
     "output_type": "execute_result"
    }
   ],
   "source": [
    "isPalindrome('doggod')"
   ]
  },
  {
   "cell_type": "code",
   "execution_count": 151,
   "metadata": {},
   "outputs": [],
   "source": [
    "nameHandle = open('kids.txt', 'w')\n",
    "nameHandle.write('Ding')\n",
    "nameHandle.close()"
   ]
  },
  {
   "cell_type": "code",
   "execution_count": 156,
   "metadata": {},
   "outputs": [
    {
     "name": "stdout",
     "output_type": "stream",
     "text": [
      "Ding\n"
     ]
    }
   ],
   "source": [
    "nameHandle = open('kids.txt', 'r')\n",
    "for line in nameHandle:\n",
    "    print(line)\n",
    "nameHandle.close()"
   ]
  }
 ],
 "metadata": {
  "kernelspec": {
   "display_name": "Python 3",
   "language": "python",
   "name": "python3"
  },
  "language_info": {
   "codemirror_mode": {
    "name": "ipython",
    "version": 3
   },
   "file_extension": ".py",
   "mimetype": "text/x-python",
   "name": "python",
   "nbconvert_exporter": "python",
   "pygments_lexer": "ipython3",
   "version": "3.6.5"
  }
 },
 "nbformat": 4,
 "nbformat_minor": 2
}
